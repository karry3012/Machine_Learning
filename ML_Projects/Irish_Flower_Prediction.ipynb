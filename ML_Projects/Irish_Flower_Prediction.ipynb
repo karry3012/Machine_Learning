{
 "cells": [
  {
   "cell_type": "markdown",
   "id": "48b6dae7",
   "metadata": {},
   "source": [
    "# Categorical-wise classification of iris flowers"
   ]
  },
  {
   "cell_type": "code",
   "execution_count": 1,
   "id": "0af9670b",
   "metadata": {},
   "outputs": [],
   "source": [
    "import numpy as np\n",
    "import pandas as pd\n",
    "import matplotlib.pyplot as plt\n",
    "import seaborn as sns\n",
    "from sklearn.datasets import load_iris"
   ]
  },
  {
   "cell_type": "code",
   "execution_count": 2,
   "id": "f6eaaef1",
   "metadata": {},
   "outputs": [],
   "source": [
    "iris= load_iris()"
   ]
  },
  {
   "cell_type": "code",
   "execution_count": 3,
   "id": "d4925437",
   "metadata": {},
   "outputs": [
    {
     "data": {
      "text/plain": [
       "['sepal length (cm)',\n",
       " 'sepal width (cm)',\n",
       " 'petal length (cm)',\n",
       " 'petal width (cm)']"
      ]
     },
     "execution_count": 3,
     "metadata": {},
     "output_type": "execute_result"
    }
   ],
   "source": [
    "iris.feature_names"
   ]
  },
  {
   "cell_type": "code",
   "execution_count": 4,
   "id": "3d032696",
   "metadata": {},
   "outputs": [
    {
     "data": {
      "text/plain": [
       "array(['setosa', 'versicolor', 'virginica'], dtype='<U10')"
      ]
     },
     "execution_count": 4,
     "metadata": {},
     "output_type": "execute_result"
    }
   ],
   "source": [
    "iris.target_names"
   ]
  },
  {
   "cell_type": "code",
   "execution_count": 5,
   "id": "182463ed",
   "metadata": {},
   "outputs": [
    {
     "data": {
      "text/plain": [
       "['DESCR',\n",
       " 'data',\n",
       " 'feature_names',\n",
       " 'filename',\n",
       " 'frame',\n",
       " 'target',\n",
       " 'target_names']"
      ]
     },
     "execution_count": 5,
     "metadata": {},
     "output_type": "execute_result"
    }
   ],
   "source": [
    "dir(iris)"
   ]
  },
  {
   "cell_type": "code",
   "execution_count": null,
   "id": "d07ad5d7",
   "metadata": {},
   "outputs": [],
   "source": []
  },
  {
   "cell_type": "code",
   "execution_count": 6,
   "id": "b7ef77c5",
   "metadata": {},
   "outputs": [],
   "source": [
    "df = pd.DataFrame(iris.data,columns=iris.feature_names)"
   ]
  },
  {
   "cell_type": "code",
   "execution_count": 7,
   "id": "2459172b",
   "metadata": {},
   "outputs": [
    {
     "data": {
      "text/html": [
       "<div>\n",
       "<style scoped>\n",
       "    .dataframe tbody tr th:only-of-type {\n",
       "        vertical-align: middle;\n",
       "    }\n",
       "\n",
       "    .dataframe tbody tr th {\n",
       "        vertical-align: top;\n",
       "    }\n",
       "\n",
       "    .dataframe thead th {\n",
       "        text-align: right;\n",
       "    }\n",
       "</style>\n",
       "<table border=\"1\" class=\"dataframe\">\n",
       "  <thead>\n",
       "    <tr style=\"text-align: right;\">\n",
       "      <th></th>\n",
       "      <th>sepal length (cm)</th>\n",
       "      <th>sepal width (cm)</th>\n",
       "      <th>petal length (cm)</th>\n",
       "      <th>petal width (cm)</th>\n",
       "    </tr>\n",
       "  </thead>\n",
       "  <tbody>\n",
       "    <tr>\n",
       "      <th>0</th>\n",
       "      <td>5.1</td>\n",
       "      <td>3.5</td>\n",
       "      <td>1.4</td>\n",
       "      <td>0.2</td>\n",
       "    </tr>\n",
       "    <tr>\n",
       "      <th>1</th>\n",
       "      <td>4.9</td>\n",
       "      <td>3.0</td>\n",
       "      <td>1.4</td>\n",
       "      <td>0.2</td>\n",
       "    </tr>\n",
       "    <tr>\n",
       "      <th>2</th>\n",
       "      <td>4.7</td>\n",
       "      <td>3.2</td>\n",
       "      <td>1.3</td>\n",
       "      <td>0.2</td>\n",
       "    </tr>\n",
       "    <tr>\n",
       "      <th>3</th>\n",
       "      <td>4.6</td>\n",
       "      <td>3.1</td>\n",
       "      <td>1.5</td>\n",
       "      <td>0.2</td>\n",
       "    </tr>\n",
       "    <tr>\n",
       "      <th>4</th>\n",
       "      <td>5.0</td>\n",
       "      <td>3.6</td>\n",
       "      <td>1.4</td>\n",
       "      <td>0.2</td>\n",
       "    </tr>\n",
       "    <tr>\n",
       "      <th>...</th>\n",
       "      <td>...</td>\n",
       "      <td>...</td>\n",
       "      <td>...</td>\n",
       "      <td>...</td>\n",
       "    </tr>\n",
       "    <tr>\n",
       "      <th>145</th>\n",
       "      <td>6.7</td>\n",
       "      <td>3.0</td>\n",
       "      <td>5.2</td>\n",
       "      <td>2.3</td>\n",
       "    </tr>\n",
       "    <tr>\n",
       "      <th>146</th>\n",
       "      <td>6.3</td>\n",
       "      <td>2.5</td>\n",
       "      <td>5.0</td>\n",
       "      <td>1.9</td>\n",
       "    </tr>\n",
       "    <tr>\n",
       "      <th>147</th>\n",
       "      <td>6.5</td>\n",
       "      <td>3.0</td>\n",
       "      <td>5.2</td>\n",
       "      <td>2.0</td>\n",
       "    </tr>\n",
       "    <tr>\n",
       "      <th>148</th>\n",
       "      <td>6.2</td>\n",
       "      <td>3.4</td>\n",
       "      <td>5.4</td>\n",
       "      <td>2.3</td>\n",
       "    </tr>\n",
       "    <tr>\n",
       "      <th>149</th>\n",
       "      <td>5.9</td>\n",
       "      <td>3.0</td>\n",
       "      <td>5.1</td>\n",
       "      <td>1.8</td>\n",
       "    </tr>\n",
       "  </tbody>\n",
       "</table>\n",
       "<p>150 rows × 4 columns</p>\n",
       "</div>"
      ],
      "text/plain": [
       "     sepal length (cm)  sepal width (cm)  petal length (cm)  petal width (cm)\n",
       "0                  5.1               3.5                1.4               0.2\n",
       "1                  4.9               3.0                1.4               0.2\n",
       "2                  4.7               3.2                1.3               0.2\n",
       "3                  4.6               3.1                1.5               0.2\n",
       "4                  5.0               3.6                1.4               0.2\n",
       "..                 ...               ...                ...               ...\n",
       "145                6.7               3.0                5.2               2.3\n",
       "146                6.3               2.5                5.0               1.9\n",
       "147                6.5               3.0                5.2               2.0\n",
       "148                6.2               3.4                5.4               2.3\n",
       "149                5.9               3.0                5.1               1.8\n",
       "\n",
       "[150 rows x 4 columns]"
      ]
     },
     "execution_count": 7,
     "metadata": {},
     "output_type": "execute_result"
    }
   ],
   "source": [
    "df"
   ]
  },
  {
   "cell_type": "code",
   "execution_count": 8,
   "id": "928687fb",
   "metadata": {},
   "outputs": [],
   "source": [
    "df['target']= iris.target"
   ]
  },
  {
   "cell_type": "code",
   "execution_count": 9,
   "id": "dbb01b60",
   "metadata": {},
   "outputs": [
    {
     "data": {
      "text/html": [
       "<div>\n",
       "<style scoped>\n",
       "    .dataframe tbody tr th:only-of-type {\n",
       "        vertical-align: middle;\n",
       "    }\n",
       "\n",
       "    .dataframe tbody tr th {\n",
       "        vertical-align: top;\n",
       "    }\n",
       "\n",
       "    .dataframe thead th {\n",
       "        text-align: right;\n",
       "    }\n",
       "</style>\n",
       "<table border=\"1\" class=\"dataframe\">\n",
       "  <thead>\n",
       "    <tr style=\"text-align: right;\">\n",
       "      <th></th>\n",
       "      <th>sepal length (cm)</th>\n",
       "      <th>sepal width (cm)</th>\n",
       "      <th>petal length (cm)</th>\n",
       "      <th>petal width (cm)</th>\n",
       "      <th>target</th>\n",
       "    </tr>\n",
       "  </thead>\n",
       "  <tbody>\n",
       "    <tr>\n",
       "      <th>0</th>\n",
       "      <td>5.1</td>\n",
       "      <td>3.5</td>\n",
       "      <td>1.4</td>\n",
       "      <td>0.2</td>\n",
       "      <td>0</td>\n",
       "    </tr>\n",
       "    <tr>\n",
       "      <th>1</th>\n",
       "      <td>4.9</td>\n",
       "      <td>3.0</td>\n",
       "      <td>1.4</td>\n",
       "      <td>0.2</td>\n",
       "      <td>0</td>\n",
       "    </tr>\n",
       "    <tr>\n",
       "      <th>2</th>\n",
       "      <td>4.7</td>\n",
       "      <td>3.2</td>\n",
       "      <td>1.3</td>\n",
       "      <td>0.2</td>\n",
       "      <td>0</td>\n",
       "    </tr>\n",
       "    <tr>\n",
       "      <th>3</th>\n",
       "      <td>4.6</td>\n",
       "      <td>3.1</td>\n",
       "      <td>1.5</td>\n",
       "      <td>0.2</td>\n",
       "      <td>0</td>\n",
       "    </tr>\n",
       "    <tr>\n",
       "      <th>4</th>\n",
       "      <td>5.0</td>\n",
       "      <td>3.6</td>\n",
       "      <td>1.4</td>\n",
       "      <td>0.2</td>\n",
       "      <td>0</td>\n",
       "    </tr>\n",
       "    <tr>\n",
       "      <th>...</th>\n",
       "      <td>...</td>\n",
       "      <td>...</td>\n",
       "      <td>...</td>\n",
       "      <td>...</td>\n",
       "      <td>...</td>\n",
       "    </tr>\n",
       "    <tr>\n",
       "      <th>145</th>\n",
       "      <td>6.7</td>\n",
       "      <td>3.0</td>\n",
       "      <td>5.2</td>\n",
       "      <td>2.3</td>\n",
       "      <td>2</td>\n",
       "    </tr>\n",
       "    <tr>\n",
       "      <th>146</th>\n",
       "      <td>6.3</td>\n",
       "      <td>2.5</td>\n",
       "      <td>5.0</td>\n",
       "      <td>1.9</td>\n",
       "      <td>2</td>\n",
       "    </tr>\n",
       "    <tr>\n",
       "      <th>147</th>\n",
       "      <td>6.5</td>\n",
       "      <td>3.0</td>\n",
       "      <td>5.2</td>\n",
       "      <td>2.0</td>\n",
       "      <td>2</td>\n",
       "    </tr>\n",
       "    <tr>\n",
       "      <th>148</th>\n",
       "      <td>6.2</td>\n",
       "      <td>3.4</td>\n",
       "      <td>5.4</td>\n",
       "      <td>2.3</td>\n",
       "      <td>2</td>\n",
       "    </tr>\n",
       "    <tr>\n",
       "      <th>149</th>\n",
       "      <td>5.9</td>\n",
       "      <td>3.0</td>\n",
       "      <td>5.1</td>\n",
       "      <td>1.8</td>\n",
       "      <td>2</td>\n",
       "    </tr>\n",
       "  </tbody>\n",
       "</table>\n",
       "<p>150 rows × 5 columns</p>\n",
       "</div>"
      ],
      "text/plain": [
       "     sepal length (cm)  sepal width (cm)  petal length (cm)  petal width (cm)  \\\n",
       "0                  5.1               3.5                1.4               0.2   \n",
       "1                  4.9               3.0                1.4               0.2   \n",
       "2                  4.7               3.2                1.3               0.2   \n",
       "3                  4.6               3.1                1.5               0.2   \n",
       "4                  5.0               3.6                1.4               0.2   \n",
       "..                 ...               ...                ...               ...   \n",
       "145                6.7               3.0                5.2               2.3   \n",
       "146                6.3               2.5                5.0               1.9   \n",
       "147                6.5               3.0                5.2               2.0   \n",
       "148                6.2               3.4                5.4               2.3   \n",
       "149                5.9               3.0                5.1               1.8   \n",
       "\n",
       "     target  \n",
       "0         0  \n",
       "1         0  \n",
       "2         0  \n",
       "3         0  \n",
       "4         0  \n",
       "..      ...  \n",
       "145       2  \n",
       "146       2  \n",
       "147       2  \n",
       "148       2  \n",
       "149       2  \n",
       "\n",
       "[150 rows x 5 columns]"
      ]
     },
     "execution_count": 9,
     "metadata": {},
     "output_type": "execute_result"
    }
   ],
   "source": [
    "df"
   ]
  },
  {
   "cell_type": "code",
   "execution_count": 10,
   "id": "7bfe6198",
   "metadata": {},
   "outputs": [],
   "source": [
    "df['Name']=iris.target_names[iris.target]"
   ]
  },
  {
   "cell_type": "code",
   "execution_count": 11,
   "id": "e6dd78e4",
   "metadata": {},
   "outputs": [
    {
     "name": "stdout",
     "output_type": "stream",
     "text": [
      "     sepal length (cm)  sepal width (cm)  petal length (cm)  petal width (cm)  target        Name\n",
      "0                  5.1               3.5                1.4               0.2       0      setosa\n",
      "1                  4.9               3.0                1.4               0.2       0      setosa\n",
      "2                  4.7               3.2                1.3               0.2       0      setosa\n",
      "3                  4.6               3.1                1.5               0.2       0      setosa\n",
      "4                  5.0               3.6                1.4               0.2       0      setosa\n",
      "5                  5.4               3.9                1.7               0.4       0      setosa\n",
      "6                  4.6               3.4                1.4               0.3       0      setosa\n",
      "7                  5.0               3.4                1.5               0.2       0      setosa\n",
      "8                  4.4               2.9                1.4               0.2       0      setosa\n",
      "9                  4.9               3.1                1.5               0.1       0      setosa\n",
      "10                 5.4               3.7                1.5               0.2       0      setosa\n",
      "11                 4.8               3.4                1.6               0.2       0      setosa\n",
      "12                 4.8               3.0                1.4               0.1       0      setosa\n",
      "13                 4.3               3.0                1.1               0.1       0      setosa\n",
      "14                 5.8               4.0                1.2               0.2       0      setosa\n",
      "15                 5.7               4.4                1.5               0.4       0      setosa\n",
      "16                 5.4               3.9                1.3               0.4       0      setosa\n",
      "17                 5.1               3.5                1.4               0.3       0      setosa\n",
      "18                 5.7               3.8                1.7               0.3       0      setosa\n",
      "19                 5.1               3.8                1.5               0.3       0      setosa\n",
      "20                 5.4               3.4                1.7               0.2       0      setosa\n",
      "21                 5.1               3.7                1.5               0.4       0      setosa\n",
      "22                 4.6               3.6                1.0               0.2       0      setosa\n",
      "23                 5.1               3.3                1.7               0.5       0      setosa\n",
      "24                 4.8               3.4                1.9               0.2       0      setosa\n",
      "25                 5.0               3.0                1.6               0.2       0      setosa\n",
      "26                 5.0               3.4                1.6               0.4       0      setosa\n",
      "27                 5.2               3.5                1.5               0.2       0      setosa\n",
      "28                 5.2               3.4                1.4               0.2       0      setosa\n",
      "29                 4.7               3.2                1.6               0.2       0      setosa\n",
      "30                 4.8               3.1                1.6               0.2       0      setosa\n",
      "31                 5.4               3.4                1.5               0.4       0      setosa\n",
      "32                 5.2               4.1                1.5               0.1       0      setosa\n",
      "33                 5.5               4.2                1.4               0.2       0      setosa\n",
      "34                 4.9               3.1                1.5               0.2       0      setosa\n",
      "35                 5.0               3.2                1.2               0.2       0      setosa\n",
      "36                 5.5               3.5                1.3               0.2       0      setosa\n",
      "37                 4.9               3.6                1.4               0.1       0      setosa\n",
      "38                 4.4               3.0                1.3               0.2       0      setosa\n",
      "39                 5.1               3.4                1.5               0.2       0      setosa\n",
      "40                 5.0               3.5                1.3               0.3       0      setosa\n",
      "41                 4.5               2.3                1.3               0.3       0      setosa\n",
      "42                 4.4               3.2                1.3               0.2       0      setosa\n",
      "43                 5.0               3.5                1.6               0.6       0      setosa\n",
      "44                 5.1               3.8                1.9               0.4       0      setosa\n",
      "45                 4.8               3.0                1.4               0.3       0      setosa\n",
      "46                 5.1               3.8                1.6               0.2       0      setosa\n",
      "47                 4.6               3.2                1.4               0.2       0      setosa\n",
      "48                 5.3               3.7                1.5               0.2       0      setosa\n",
      "49                 5.0               3.3                1.4               0.2       0      setosa\n",
      "50                 7.0               3.2                4.7               1.4       1  versicolor\n",
      "51                 6.4               3.2                4.5               1.5       1  versicolor\n",
      "52                 6.9               3.1                4.9               1.5       1  versicolor\n",
      "53                 5.5               2.3                4.0               1.3       1  versicolor\n",
      "54                 6.5               2.8                4.6               1.5       1  versicolor\n",
      "55                 5.7               2.8                4.5               1.3       1  versicolor\n",
      "56                 6.3               3.3                4.7               1.6       1  versicolor\n",
      "57                 4.9               2.4                3.3               1.0       1  versicolor\n",
      "58                 6.6               2.9                4.6               1.3       1  versicolor\n",
      "59                 5.2               2.7                3.9               1.4       1  versicolor\n",
      "60                 5.0               2.0                3.5               1.0       1  versicolor\n",
      "61                 5.9               3.0                4.2               1.5       1  versicolor\n",
      "62                 6.0               2.2                4.0               1.0       1  versicolor\n",
      "63                 6.1               2.9                4.7               1.4       1  versicolor\n",
      "64                 5.6               2.9                3.6               1.3       1  versicolor\n",
      "65                 6.7               3.1                4.4               1.4       1  versicolor\n",
      "66                 5.6               3.0                4.5               1.5       1  versicolor\n",
      "67                 5.8               2.7                4.1               1.0       1  versicolor\n",
      "68                 6.2               2.2                4.5               1.5       1  versicolor\n",
      "69                 5.6               2.5                3.9               1.1       1  versicolor\n",
      "70                 5.9               3.2                4.8               1.8       1  versicolor\n",
      "71                 6.1               2.8                4.0               1.3       1  versicolor\n",
      "72                 6.3               2.5                4.9               1.5       1  versicolor\n",
      "73                 6.1               2.8                4.7               1.2       1  versicolor\n",
      "74                 6.4               2.9                4.3               1.3       1  versicolor\n",
      "75                 6.6               3.0                4.4               1.4       1  versicolor\n",
      "76                 6.8               2.8                4.8               1.4       1  versicolor\n",
      "77                 6.7               3.0                5.0               1.7       1  versicolor\n",
      "78                 6.0               2.9                4.5               1.5       1  versicolor\n",
      "79                 5.7               2.6                3.5               1.0       1  versicolor\n",
      "80                 5.5               2.4                3.8               1.1       1  versicolor\n",
      "81                 5.5               2.4                3.7               1.0       1  versicolor\n",
      "82                 5.8               2.7                3.9               1.2       1  versicolor\n",
      "83                 6.0               2.7                5.1               1.6       1  versicolor\n",
      "84                 5.4               3.0                4.5               1.5       1  versicolor\n",
      "85                 6.0               3.4                4.5               1.6       1  versicolor\n",
      "86                 6.7               3.1                4.7               1.5       1  versicolor\n",
      "87                 6.3               2.3                4.4               1.3       1  versicolor\n",
      "88                 5.6               3.0                4.1               1.3       1  versicolor\n",
      "89                 5.5               2.5                4.0               1.3       1  versicolor\n",
      "90                 5.5               2.6                4.4               1.2       1  versicolor\n",
      "91                 6.1               3.0                4.6               1.4       1  versicolor\n",
      "92                 5.8               2.6                4.0               1.2       1  versicolor\n",
      "93                 5.0               2.3                3.3               1.0       1  versicolor\n",
      "94                 5.6               2.7                4.2               1.3       1  versicolor\n",
      "95                 5.7               3.0                4.2               1.2       1  versicolor\n",
      "96                 5.7               2.9                4.2               1.3       1  versicolor\n",
      "97                 6.2               2.9                4.3               1.3       1  versicolor\n",
      "98                 5.1               2.5                3.0               1.1       1  versicolor\n",
      "99                 5.7               2.8                4.1               1.3       1  versicolor\n",
      "100                6.3               3.3                6.0               2.5       2   virginica\n",
      "101                5.8               2.7                5.1               1.9       2   virginica\n",
      "102                7.1               3.0                5.9               2.1       2   virginica\n",
      "103                6.3               2.9                5.6               1.8       2   virginica\n",
      "104                6.5               3.0                5.8               2.2       2   virginica\n",
      "105                7.6               3.0                6.6               2.1       2   virginica\n",
      "106                4.9               2.5                4.5               1.7       2   virginica\n",
      "107                7.3               2.9                6.3               1.8       2   virginica\n",
      "108                6.7               2.5                5.8               1.8       2   virginica\n",
      "109                7.2               3.6                6.1               2.5       2   virginica\n",
      "110                6.5               3.2                5.1               2.0       2   virginica\n",
      "111                6.4               2.7                5.3               1.9       2   virginica\n",
      "112                6.8               3.0                5.5               2.1       2   virginica\n",
      "113                5.7               2.5                5.0               2.0       2   virginica\n",
      "114                5.8               2.8                5.1               2.4       2   virginica\n",
      "115                6.4               3.2                5.3               2.3       2   virginica\n",
      "116                6.5               3.0                5.5               1.8       2   virginica\n",
      "117                7.7               3.8                6.7               2.2       2   virginica\n",
      "118                7.7               2.6                6.9               2.3       2   virginica\n",
      "119                6.0               2.2                5.0               1.5       2   virginica\n",
      "120                6.9               3.2                5.7               2.3       2   virginica\n",
      "121                5.6               2.8                4.9               2.0       2   virginica\n",
      "122                7.7               2.8                6.7               2.0       2   virginica\n",
      "123                6.3               2.7                4.9               1.8       2   virginica\n",
      "124                6.7               3.3                5.7               2.1       2   virginica\n",
      "125                7.2               3.2                6.0               1.8       2   virginica\n",
      "126                6.2               2.8                4.8               1.8       2   virginica\n",
      "127                6.1               3.0                4.9               1.8       2   virginica\n",
      "128                6.4               2.8                5.6               2.1       2   virginica\n",
      "129                7.2               3.0                5.8               1.6       2   virginica\n",
      "130                7.4               2.8                6.1               1.9       2   virginica\n",
      "131                7.9               3.8                6.4               2.0       2   virginica\n",
      "132                6.4               2.8                5.6               2.2       2   virginica\n",
      "133                6.3               2.8                5.1               1.5       2   virginica\n",
      "134                6.1               2.6                5.6               1.4       2   virginica\n",
      "135                7.7               3.0                6.1               2.3       2   virginica\n",
      "136                6.3               3.4                5.6               2.4       2   virginica\n",
      "137                6.4               3.1                5.5               1.8       2   virginica\n",
      "138                6.0               3.0                4.8               1.8       2   virginica\n",
      "139                6.9               3.1                5.4               2.1       2   virginica\n",
      "140                6.7               3.1                5.6               2.4       2   virginica\n",
      "141                6.9               3.1                5.1               2.3       2   virginica\n",
      "142                5.8               2.7                5.1               1.9       2   virginica\n",
      "143                6.8               3.2                5.9               2.3       2   virginica\n",
      "144                6.7               3.3                5.7               2.5       2   virginica\n",
      "145                6.7               3.0                5.2               2.3       2   virginica\n",
      "146                6.3               2.5                5.0               1.9       2   virginica\n",
      "147                6.5               3.0                5.2               2.0       2   virginica\n",
      "148                6.2               3.4                5.4               2.3       2   virginica\n",
      "149                5.9               3.0                5.1               1.8       2   virginica\n"
     ]
    }
   ],
   "source": [
    "print(df.to_string())"
   ]
  },
  {
   "cell_type": "code",
   "execution_count": 12,
   "id": "d5d943c7",
   "metadata": {},
   "outputs": [
    {
     "data": {
      "text/html": [
       "<div>\n",
       "<style scoped>\n",
       "    .dataframe tbody tr th:only-of-type {\n",
       "        vertical-align: middle;\n",
       "    }\n",
       "\n",
       "    .dataframe tbody tr th {\n",
       "        vertical-align: top;\n",
       "    }\n",
       "\n",
       "    .dataframe thead th {\n",
       "        text-align: right;\n",
       "    }\n",
       "</style>\n",
       "<table border=\"1\" class=\"dataframe\">\n",
       "  <thead>\n",
       "    <tr style=\"text-align: right;\">\n",
       "      <th></th>\n",
       "      <th>sepal length (cm)</th>\n",
       "      <th>sepal width (cm)</th>\n",
       "      <th>petal length (cm)</th>\n",
       "      <th>petal width (cm)</th>\n",
       "      <th>target</th>\n",
       "      <th>Name</th>\n",
       "    </tr>\n",
       "  </thead>\n",
       "  <tbody>\n",
       "    <tr>\n",
       "      <th>100</th>\n",
       "      <td>6.3</td>\n",
       "      <td>3.3</td>\n",
       "      <td>6.0</td>\n",
       "      <td>2.5</td>\n",
       "      <td>2</td>\n",
       "      <td>virginica</td>\n",
       "    </tr>\n",
       "    <tr>\n",
       "      <th>101</th>\n",
       "      <td>5.8</td>\n",
       "      <td>2.7</td>\n",
       "      <td>5.1</td>\n",
       "      <td>1.9</td>\n",
       "      <td>2</td>\n",
       "      <td>virginica</td>\n",
       "    </tr>\n",
       "    <tr>\n",
       "      <th>102</th>\n",
       "      <td>7.1</td>\n",
       "      <td>3.0</td>\n",
       "      <td>5.9</td>\n",
       "      <td>2.1</td>\n",
       "      <td>2</td>\n",
       "      <td>virginica</td>\n",
       "    </tr>\n",
       "    <tr>\n",
       "      <th>103</th>\n",
       "      <td>6.3</td>\n",
       "      <td>2.9</td>\n",
       "      <td>5.6</td>\n",
       "      <td>1.8</td>\n",
       "      <td>2</td>\n",
       "      <td>virginica</td>\n",
       "    </tr>\n",
       "    <tr>\n",
       "      <th>104</th>\n",
       "      <td>6.5</td>\n",
       "      <td>3.0</td>\n",
       "      <td>5.8</td>\n",
       "      <td>2.2</td>\n",
       "      <td>2</td>\n",
       "      <td>virginica</td>\n",
       "    </tr>\n",
       "    <tr>\n",
       "      <th>105</th>\n",
       "      <td>7.6</td>\n",
       "      <td>3.0</td>\n",
       "      <td>6.6</td>\n",
       "      <td>2.1</td>\n",
       "      <td>2</td>\n",
       "      <td>virginica</td>\n",
       "    </tr>\n",
       "    <tr>\n",
       "      <th>106</th>\n",
       "      <td>4.9</td>\n",
       "      <td>2.5</td>\n",
       "      <td>4.5</td>\n",
       "      <td>1.7</td>\n",
       "      <td>2</td>\n",
       "      <td>virginica</td>\n",
       "    </tr>\n",
       "    <tr>\n",
       "      <th>107</th>\n",
       "      <td>7.3</td>\n",
       "      <td>2.9</td>\n",
       "      <td>6.3</td>\n",
       "      <td>1.8</td>\n",
       "      <td>2</td>\n",
       "      <td>virginica</td>\n",
       "    </tr>\n",
       "    <tr>\n",
       "      <th>108</th>\n",
       "      <td>6.7</td>\n",
       "      <td>2.5</td>\n",
       "      <td>5.8</td>\n",
       "      <td>1.8</td>\n",
       "      <td>2</td>\n",
       "      <td>virginica</td>\n",
       "    </tr>\n",
       "    <tr>\n",
       "      <th>109</th>\n",
       "      <td>7.2</td>\n",
       "      <td>3.6</td>\n",
       "      <td>6.1</td>\n",
       "      <td>2.5</td>\n",
       "      <td>2</td>\n",
       "      <td>virginica</td>\n",
       "    </tr>\n",
       "    <tr>\n",
       "      <th>110</th>\n",
       "      <td>6.5</td>\n",
       "      <td>3.2</td>\n",
       "      <td>5.1</td>\n",
       "      <td>2.0</td>\n",
       "      <td>2</td>\n",
       "      <td>virginica</td>\n",
       "    </tr>\n",
       "    <tr>\n",
       "      <th>111</th>\n",
       "      <td>6.4</td>\n",
       "      <td>2.7</td>\n",
       "      <td>5.3</td>\n",
       "      <td>1.9</td>\n",
       "      <td>2</td>\n",
       "      <td>virginica</td>\n",
       "    </tr>\n",
       "    <tr>\n",
       "      <th>112</th>\n",
       "      <td>6.8</td>\n",
       "      <td>3.0</td>\n",
       "      <td>5.5</td>\n",
       "      <td>2.1</td>\n",
       "      <td>2</td>\n",
       "      <td>virginica</td>\n",
       "    </tr>\n",
       "    <tr>\n",
       "      <th>113</th>\n",
       "      <td>5.7</td>\n",
       "      <td>2.5</td>\n",
       "      <td>5.0</td>\n",
       "      <td>2.0</td>\n",
       "      <td>2</td>\n",
       "      <td>virginica</td>\n",
       "    </tr>\n",
       "    <tr>\n",
       "      <th>114</th>\n",
       "      <td>5.8</td>\n",
       "      <td>2.8</td>\n",
       "      <td>5.1</td>\n",
       "      <td>2.4</td>\n",
       "      <td>2</td>\n",
       "      <td>virginica</td>\n",
       "    </tr>\n",
       "    <tr>\n",
       "      <th>115</th>\n",
       "      <td>6.4</td>\n",
       "      <td>3.2</td>\n",
       "      <td>5.3</td>\n",
       "      <td>2.3</td>\n",
       "      <td>2</td>\n",
       "      <td>virginica</td>\n",
       "    </tr>\n",
       "    <tr>\n",
       "      <th>116</th>\n",
       "      <td>6.5</td>\n",
       "      <td>3.0</td>\n",
       "      <td>5.5</td>\n",
       "      <td>1.8</td>\n",
       "      <td>2</td>\n",
       "      <td>virginica</td>\n",
       "    </tr>\n",
       "    <tr>\n",
       "      <th>117</th>\n",
       "      <td>7.7</td>\n",
       "      <td>3.8</td>\n",
       "      <td>6.7</td>\n",
       "      <td>2.2</td>\n",
       "      <td>2</td>\n",
       "      <td>virginica</td>\n",
       "    </tr>\n",
       "    <tr>\n",
       "      <th>118</th>\n",
       "      <td>7.7</td>\n",
       "      <td>2.6</td>\n",
       "      <td>6.9</td>\n",
       "      <td>2.3</td>\n",
       "      <td>2</td>\n",
       "      <td>virginica</td>\n",
       "    </tr>\n",
       "    <tr>\n",
       "      <th>119</th>\n",
       "      <td>6.0</td>\n",
       "      <td>2.2</td>\n",
       "      <td>5.0</td>\n",
       "      <td>1.5</td>\n",
       "      <td>2</td>\n",
       "      <td>virginica</td>\n",
       "    </tr>\n",
       "    <tr>\n",
       "      <th>120</th>\n",
       "      <td>6.9</td>\n",
       "      <td>3.2</td>\n",
       "      <td>5.7</td>\n",
       "      <td>2.3</td>\n",
       "      <td>2</td>\n",
       "      <td>virginica</td>\n",
       "    </tr>\n",
       "    <tr>\n",
       "      <th>121</th>\n",
       "      <td>5.6</td>\n",
       "      <td>2.8</td>\n",
       "      <td>4.9</td>\n",
       "      <td>2.0</td>\n",
       "      <td>2</td>\n",
       "      <td>virginica</td>\n",
       "    </tr>\n",
       "    <tr>\n",
       "      <th>122</th>\n",
       "      <td>7.7</td>\n",
       "      <td>2.8</td>\n",
       "      <td>6.7</td>\n",
       "      <td>2.0</td>\n",
       "      <td>2</td>\n",
       "      <td>virginica</td>\n",
       "    </tr>\n",
       "    <tr>\n",
       "      <th>123</th>\n",
       "      <td>6.3</td>\n",
       "      <td>2.7</td>\n",
       "      <td>4.9</td>\n",
       "      <td>1.8</td>\n",
       "      <td>2</td>\n",
       "      <td>virginica</td>\n",
       "    </tr>\n",
       "    <tr>\n",
       "      <th>124</th>\n",
       "      <td>6.7</td>\n",
       "      <td>3.3</td>\n",
       "      <td>5.7</td>\n",
       "      <td>2.1</td>\n",
       "      <td>2</td>\n",
       "      <td>virginica</td>\n",
       "    </tr>\n",
       "    <tr>\n",
       "      <th>125</th>\n",
       "      <td>7.2</td>\n",
       "      <td>3.2</td>\n",
       "      <td>6.0</td>\n",
       "      <td>1.8</td>\n",
       "      <td>2</td>\n",
       "      <td>virginica</td>\n",
       "    </tr>\n",
       "    <tr>\n",
       "      <th>126</th>\n",
       "      <td>6.2</td>\n",
       "      <td>2.8</td>\n",
       "      <td>4.8</td>\n",
       "      <td>1.8</td>\n",
       "      <td>2</td>\n",
       "      <td>virginica</td>\n",
       "    </tr>\n",
       "    <tr>\n",
       "      <th>127</th>\n",
       "      <td>6.1</td>\n",
       "      <td>3.0</td>\n",
       "      <td>4.9</td>\n",
       "      <td>1.8</td>\n",
       "      <td>2</td>\n",
       "      <td>virginica</td>\n",
       "    </tr>\n",
       "    <tr>\n",
       "      <th>128</th>\n",
       "      <td>6.4</td>\n",
       "      <td>2.8</td>\n",
       "      <td>5.6</td>\n",
       "      <td>2.1</td>\n",
       "      <td>2</td>\n",
       "      <td>virginica</td>\n",
       "    </tr>\n",
       "    <tr>\n",
       "      <th>129</th>\n",
       "      <td>7.2</td>\n",
       "      <td>3.0</td>\n",
       "      <td>5.8</td>\n",
       "      <td>1.6</td>\n",
       "      <td>2</td>\n",
       "      <td>virginica</td>\n",
       "    </tr>\n",
       "    <tr>\n",
       "      <th>130</th>\n",
       "      <td>7.4</td>\n",
       "      <td>2.8</td>\n",
       "      <td>6.1</td>\n",
       "      <td>1.9</td>\n",
       "      <td>2</td>\n",
       "      <td>virginica</td>\n",
       "    </tr>\n",
       "    <tr>\n",
       "      <th>131</th>\n",
       "      <td>7.9</td>\n",
       "      <td>3.8</td>\n",
       "      <td>6.4</td>\n",
       "      <td>2.0</td>\n",
       "      <td>2</td>\n",
       "      <td>virginica</td>\n",
       "    </tr>\n",
       "    <tr>\n",
       "      <th>132</th>\n",
       "      <td>6.4</td>\n",
       "      <td>2.8</td>\n",
       "      <td>5.6</td>\n",
       "      <td>2.2</td>\n",
       "      <td>2</td>\n",
       "      <td>virginica</td>\n",
       "    </tr>\n",
       "    <tr>\n",
       "      <th>133</th>\n",
       "      <td>6.3</td>\n",
       "      <td>2.8</td>\n",
       "      <td>5.1</td>\n",
       "      <td>1.5</td>\n",
       "      <td>2</td>\n",
       "      <td>virginica</td>\n",
       "    </tr>\n",
       "    <tr>\n",
       "      <th>134</th>\n",
       "      <td>6.1</td>\n",
       "      <td>2.6</td>\n",
       "      <td>5.6</td>\n",
       "      <td>1.4</td>\n",
       "      <td>2</td>\n",
       "      <td>virginica</td>\n",
       "    </tr>\n",
       "    <tr>\n",
       "      <th>135</th>\n",
       "      <td>7.7</td>\n",
       "      <td>3.0</td>\n",
       "      <td>6.1</td>\n",
       "      <td>2.3</td>\n",
       "      <td>2</td>\n",
       "      <td>virginica</td>\n",
       "    </tr>\n",
       "    <tr>\n",
       "      <th>136</th>\n",
       "      <td>6.3</td>\n",
       "      <td>3.4</td>\n",
       "      <td>5.6</td>\n",
       "      <td>2.4</td>\n",
       "      <td>2</td>\n",
       "      <td>virginica</td>\n",
       "    </tr>\n",
       "    <tr>\n",
       "      <th>137</th>\n",
       "      <td>6.4</td>\n",
       "      <td>3.1</td>\n",
       "      <td>5.5</td>\n",
       "      <td>1.8</td>\n",
       "      <td>2</td>\n",
       "      <td>virginica</td>\n",
       "    </tr>\n",
       "    <tr>\n",
       "      <th>138</th>\n",
       "      <td>6.0</td>\n",
       "      <td>3.0</td>\n",
       "      <td>4.8</td>\n",
       "      <td>1.8</td>\n",
       "      <td>2</td>\n",
       "      <td>virginica</td>\n",
       "    </tr>\n",
       "    <tr>\n",
       "      <th>139</th>\n",
       "      <td>6.9</td>\n",
       "      <td>3.1</td>\n",
       "      <td>5.4</td>\n",
       "      <td>2.1</td>\n",
       "      <td>2</td>\n",
       "      <td>virginica</td>\n",
       "    </tr>\n",
       "    <tr>\n",
       "      <th>140</th>\n",
       "      <td>6.7</td>\n",
       "      <td>3.1</td>\n",
       "      <td>5.6</td>\n",
       "      <td>2.4</td>\n",
       "      <td>2</td>\n",
       "      <td>virginica</td>\n",
       "    </tr>\n",
       "    <tr>\n",
       "      <th>141</th>\n",
       "      <td>6.9</td>\n",
       "      <td>3.1</td>\n",
       "      <td>5.1</td>\n",
       "      <td>2.3</td>\n",
       "      <td>2</td>\n",
       "      <td>virginica</td>\n",
       "    </tr>\n",
       "    <tr>\n",
       "      <th>142</th>\n",
       "      <td>5.8</td>\n",
       "      <td>2.7</td>\n",
       "      <td>5.1</td>\n",
       "      <td>1.9</td>\n",
       "      <td>2</td>\n",
       "      <td>virginica</td>\n",
       "    </tr>\n",
       "    <tr>\n",
       "      <th>143</th>\n",
       "      <td>6.8</td>\n",
       "      <td>3.2</td>\n",
       "      <td>5.9</td>\n",
       "      <td>2.3</td>\n",
       "      <td>2</td>\n",
       "      <td>virginica</td>\n",
       "    </tr>\n",
       "    <tr>\n",
       "      <th>144</th>\n",
       "      <td>6.7</td>\n",
       "      <td>3.3</td>\n",
       "      <td>5.7</td>\n",
       "      <td>2.5</td>\n",
       "      <td>2</td>\n",
       "      <td>virginica</td>\n",
       "    </tr>\n",
       "    <tr>\n",
       "      <th>145</th>\n",
       "      <td>6.7</td>\n",
       "      <td>3.0</td>\n",
       "      <td>5.2</td>\n",
       "      <td>2.3</td>\n",
       "      <td>2</td>\n",
       "      <td>virginica</td>\n",
       "    </tr>\n",
       "    <tr>\n",
       "      <th>146</th>\n",
       "      <td>6.3</td>\n",
       "      <td>2.5</td>\n",
       "      <td>5.0</td>\n",
       "      <td>1.9</td>\n",
       "      <td>2</td>\n",
       "      <td>virginica</td>\n",
       "    </tr>\n",
       "    <tr>\n",
       "      <th>147</th>\n",
       "      <td>6.5</td>\n",
       "      <td>3.0</td>\n",
       "      <td>5.2</td>\n",
       "      <td>2.0</td>\n",
       "      <td>2</td>\n",
       "      <td>virginica</td>\n",
       "    </tr>\n",
       "    <tr>\n",
       "      <th>148</th>\n",
       "      <td>6.2</td>\n",
       "      <td>3.4</td>\n",
       "      <td>5.4</td>\n",
       "      <td>2.3</td>\n",
       "      <td>2</td>\n",
       "      <td>virginica</td>\n",
       "    </tr>\n",
       "    <tr>\n",
       "      <th>149</th>\n",
       "      <td>5.9</td>\n",
       "      <td>3.0</td>\n",
       "      <td>5.1</td>\n",
       "      <td>1.8</td>\n",
       "      <td>2</td>\n",
       "      <td>virginica</td>\n",
       "    </tr>\n",
       "  </tbody>\n",
       "</table>\n",
       "</div>"
      ],
      "text/plain": [
       "     sepal length (cm)  sepal width (cm)  petal length (cm)  petal width (cm)  \\\n",
       "100                6.3               3.3                6.0               2.5   \n",
       "101                5.8               2.7                5.1               1.9   \n",
       "102                7.1               3.0                5.9               2.1   \n",
       "103                6.3               2.9                5.6               1.8   \n",
       "104                6.5               3.0                5.8               2.2   \n",
       "105                7.6               3.0                6.6               2.1   \n",
       "106                4.9               2.5                4.5               1.7   \n",
       "107                7.3               2.9                6.3               1.8   \n",
       "108                6.7               2.5                5.8               1.8   \n",
       "109                7.2               3.6                6.1               2.5   \n",
       "110                6.5               3.2                5.1               2.0   \n",
       "111                6.4               2.7                5.3               1.9   \n",
       "112                6.8               3.0                5.5               2.1   \n",
       "113                5.7               2.5                5.0               2.0   \n",
       "114                5.8               2.8                5.1               2.4   \n",
       "115                6.4               3.2                5.3               2.3   \n",
       "116                6.5               3.0                5.5               1.8   \n",
       "117                7.7               3.8                6.7               2.2   \n",
       "118                7.7               2.6                6.9               2.3   \n",
       "119                6.0               2.2                5.0               1.5   \n",
       "120                6.9               3.2                5.7               2.3   \n",
       "121                5.6               2.8                4.9               2.0   \n",
       "122                7.7               2.8                6.7               2.0   \n",
       "123                6.3               2.7                4.9               1.8   \n",
       "124                6.7               3.3                5.7               2.1   \n",
       "125                7.2               3.2                6.0               1.8   \n",
       "126                6.2               2.8                4.8               1.8   \n",
       "127                6.1               3.0                4.9               1.8   \n",
       "128                6.4               2.8                5.6               2.1   \n",
       "129                7.2               3.0                5.8               1.6   \n",
       "130                7.4               2.8                6.1               1.9   \n",
       "131                7.9               3.8                6.4               2.0   \n",
       "132                6.4               2.8                5.6               2.2   \n",
       "133                6.3               2.8                5.1               1.5   \n",
       "134                6.1               2.6                5.6               1.4   \n",
       "135                7.7               3.0                6.1               2.3   \n",
       "136                6.3               3.4                5.6               2.4   \n",
       "137                6.4               3.1                5.5               1.8   \n",
       "138                6.0               3.0                4.8               1.8   \n",
       "139                6.9               3.1                5.4               2.1   \n",
       "140                6.7               3.1                5.6               2.4   \n",
       "141                6.9               3.1                5.1               2.3   \n",
       "142                5.8               2.7                5.1               1.9   \n",
       "143                6.8               3.2                5.9               2.3   \n",
       "144                6.7               3.3                5.7               2.5   \n",
       "145                6.7               3.0                5.2               2.3   \n",
       "146                6.3               2.5                5.0               1.9   \n",
       "147                6.5               3.0                5.2               2.0   \n",
       "148                6.2               3.4                5.4               2.3   \n",
       "149                5.9               3.0                5.1               1.8   \n",
       "\n",
       "     target       Name  \n",
       "100       2  virginica  \n",
       "101       2  virginica  \n",
       "102       2  virginica  \n",
       "103       2  virginica  \n",
       "104       2  virginica  \n",
       "105       2  virginica  \n",
       "106       2  virginica  \n",
       "107       2  virginica  \n",
       "108       2  virginica  \n",
       "109       2  virginica  \n",
       "110       2  virginica  \n",
       "111       2  virginica  \n",
       "112       2  virginica  \n",
       "113       2  virginica  \n",
       "114       2  virginica  \n",
       "115       2  virginica  \n",
       "116       2  virginica  \n",
       "117       2  virginica  \n",
       "118       2  virginica  \n",
       "119       2  virginica  \n",
       "120       2  virginica  \n",
       "121       2  virginica  \n",
       "122       2  virginica  \n",
       "123       2  virginica  \n",
       "124       2  virginica  \n",
       "125       2  virginica  \n",
       "126       2  virginica  \n",
       "127       2  virginica  \n",
       "128       2  virginica  \n",
       "129       2  virginica  \n",
       "130       2  virginica  \n",
       "131       2  virginica  \n",
       "132       2  virginica  \n",
       "133       2  virginica  \n",
       "134       2  virginica  \n",
       "135       2  virginica  \n",
       "136       2  virginica  \n",
       "137       2  virginica  \n",
       "138       2  virginica  \n",
       "139       2  virginica  \n",
       "140       2  virginica  \n",
       "141       2  virginica  \n",
       "142       2  virginica  \n",
       "143       2  virginica  \n",
       "144       2  virginica  \n",
       "145       2  virginica  \n",
       "146       2  virginica  \n",
       "147       2  virginica  \n",
       "148       2  virginica  \n",
       "149       2  virginica  "
      ]
     },
     "execution_count": 12,
     "metadata": {},
     "output_type": "execute_result"
    }
   ],
   "source": [
    "df[df.target==2]"
   ]
  },
  {
   "cell_type": "code",
   "execution_count": 13,
   "id": "ecb1f79c",
   "metadata": {},
   "outputs": [],
   "source": [
    "from sklearn.model_selection import cross_val_score, train_test_split"
   ]
  },
  {
   "cell_type": "code",
   "execution_count": 14,
   "id": "2700aaf6",
   "metadata": {},
   "outputs": [],
   "source": [
    "x= df.drop(['target','Name'],axis ='columns')\n",
    "y= df['target']"
   ]
  },
  {
   "cell_type": "code",
   "execution_count": 15,
   "id": "ba09d15f",
   "metadata": {},
   "outputs": [
    {
     "data": {
      "text/html": [
       "<div>\n",
       "<style scoped>\n",
       "    .dataframe tbody tr th:only-of-type {\n",
       "        vertical-align: middle;\n",
       "    }\n",
       "\n",
       "    .dataframe tbody tr th {\n",
       "        vertical-align: top;\n",
       "    }\n",
       "\n",
       "    .dataframe thead th {\n",
       "        text-align: right;\n",
       "    }\n",
       "</style>\n",
       "<table border=\"1\" class=\"dataframe\">\n",
       "  <thead>\n",
       "    <tr style=\"text-align: right;\">\n",
       "      <th></th>\n",
       "      <th>sepal length (cm)</th>\n",
       "      <th>sepal width (cm)</th>\n",
       "      <th>petal length (cm)</th>\n",
       "      <th>petal width (cm)</th>\n",
       "    </tr>\n",
       "  </thead>\n",
       "  <tbody>\n",
       "    <tr>\n",
       "      <th>0</th>\n",
       "      <td>5.1</td>\n",
       "      <td>3.5</td>\n",
       "      <td>1.4</td>\n",
       "      <td>0.2</td>\n",
       "    </tr>\n",
       "    <tr>\n",
       "      <th>1</th>\n",
       "      <td>4.9</td>\n",
       "      <td>3.0</td>\n",
       "      <td>1.4</td>\n",
       "      <td>0.2</td>\n",
       "    </tr>\n",
       "    <tr>\n",
       "      <th>2</th>\n",
       "      <td>4.7</td>\n",
       "      <td>3.2</td>\n",
       "      <td>1.3</td>\n",
       "      <td>0.2</td>\n",
       "    </tr>\n",
       "    <tr>\n",
       "      <th>3</th>\n",
       "      <td>4.6</td>\n",
       "      <td>3.1</td>\n",
       "      <td>1.5</td>\n",
       "      <td>0.2</td>\n",
       "    </tr>\n",
       "    <tr>\n",
       "      <th>4</th>\n",
       "      <td>5.0</td>\n",
       "      <td>3.6</td>\n",
       "      <td>1.4</td>\n",
       "      <td>0.2</td>\n",
       "    </tr>\n",
       "    <tr>\n",
       "      <th>...</th>\n",
       "      <td>...</td>\n",
       "      <td>...</td>\n",
       "      <td>...</td>\n",
       "      <td>...</td>\n",
       "    </tr>\n",
       "    <tr>\n",
       "      <th>145</th>\n",
       "      <td>6.7</td>\n",
       "      <td>3.0</td>\n",
       "      <td>5.2</td>\n",
       "      <td>2.3</td>\n",
       "    </tr>\n",
       "    <tr>\n",
       "      <th>146</th>\n",
       "      <td>6.3</td>\n",
       "      <td>2.5</td>\n",
       "      <td>5.0</td>\n",
       "      <td>1.9</td>\n",
       "    </tr>\n",
       "    <tr>\n",
       "      <th>147</th>\n",
       "      <td>6.5</td>\n",
       "      <td>3.0</td>\n",
       "      <td>5.2</td>\n",
       "      <td>2.0</td>\n",
       "    </tr>\n",
       "    <tr>\n",
       "      <th>148</th>\n",
       "      <td>6.2</td>\n",
       "      <td>3.4</td>\n",
       "      <td>5.4</td>\n",
       "      <td>2.3</td>\n",
       "    </tr>\n",
       "    <tr>\n",
       "      <th>149</th>\n",
       "      <td>5.9</td>\n",
       "      <td>3.0</td>\n",
       "      <td>5.1</td>\n",
       "      <td>1.8</td>\n",
       "    </tr>\n",
       "  </tbody>\n",
       "</table>\n",
       "<p>150 rows × 4 columns</p>\n",
       "</div>"
      ],
      "text/plain": [
       "     sepal length (cm)  sepal width (cm)  petal length (cm)  petal width (cm)\n",
       "0                  5.1               3.5                1.4               0.2\n",
       "1                  4.9               3.0                1.4               0.2\n",
       "2                  4.7               3.2                1.3               0.2\n",
       "3                  4.6               3.1                1.5               0.2\n",
       "4                  5.0               3.6                1.4               0.2\n",
       "..                 ...               ...                ...               ...\n",
       "145                6.7               3.0                5.2               2.3\n",
       "146                6.3               2.5                5.0               1.9\n",
       "147                6.5               3.0                5.2               2.0\n",
       "148                6.2               3.4                5.4               2.3\n",
       "149                5.9               3.0                5.1               1.8\n",
       "\n",
       "[150 rows x 4 columns]"
      ]
     },
     "execution_count": 15,
     "metadata": {},
     "output_type": "execute_result"
    }
   ],
   "source": [
    "x"
   ]
  },
  {
   "cell_type": "code",
   "execution_count": 16,
   "id": "e7229723",
   "metadata": {},
   "outputs": [
    {
     "data": {
      "text/plain": [
       "0      0\n",
       "1      0\n",
       "2      0\n",
       "3      0\n",
       "4      0\n",
       "      ..\n",
       "145    2\n",
       "146    2\n",
       "147    2\n",
       "148    2\n",
       "149    2\n",
       "Name: target, Length: 150, dtype: int32"
      ]
     },
     "execution_count": 16,
     "metadata": {},
     "output_type": "execute_result"
    }
   ],
   "source": [
    "y"
   ]
  },
  {
   "cell_type": "code",
   "execution_count": 17,
   "id": "38d2e7da",
   "metadata": {},
   "outputs": [],
   "source": [
    "from sklearn.neighbors import KNeighborsClassifier"
   ]
  },
  {
   "cell_type": "code",
   "execution_count": 18,
   "id": "61e1c192",
   "metadata": {},
   "outputs": [],
   "source": [
    "knn = KNeighborsClassifier(n_neighbors=5)"
   ]
  },
  {
   "cell_type": "code",
   "execution_count": 19,
   "id": "0143ba6b",
   "metadata": {},
   "outputs": [],
   "source": [
    "cvs = cross_val_score(knn,x,y,cv=5)"
   ]
  },
  {
   "cell_type": "code",
   "execution_count": 20,
   "id": "b1ddd5b4",
   "metadata": {},
   "outputs": [],
   "source": [
    "x_train , x_test , y_train , y_test = train_test_split(x,y,test_size=0.2)"
   ]
  },
  {
   "cell_type": "code",
   "execution_count": 21,
   "id": "cae932da",
   "metadata": {},
   "outputs": [
    {
     "data": {
      "text/plain": [
       "KNeighborsClassifier()"
      ]
     },
     "execution_count": 21,
     "metadata": {},
     "output_type": "execute_result"
    }
   ],
   "source": [
    "knn.fit(x_train,y_train)"
   ]
  },
  {
   "cell_type": "code",
   "execution_count": 22,
   "id": "796b6c08",
   "metadata": {},
   "outputs": [],
   "source": [
    "y_pred =knn.predict(x_test)"
   ]
  },
  {
   "cell_type": "code",
   "execution_count": 23,
   "id": "8e14a72b",
   "metadata": {},
   "outputs": [],
   "source": [
    "y_p = knn.predict(x_train)"
   ]
  },
  {
   "cell_type": "code",
   "execution_count": 24,
   "id": "f969e333",
   "metadata": {},
   "outputs": [
    {
     "data": {
      "text/plain": [
       "array([0, 1, 0, 1, 0, 2, 2, 1, 2, 2, 1, 1, 0, 1, 0, 2, 0, 0, 2, 2, 0, 2,\n",
       "       1, 2, 2, 1, 1, 1, 1, 0, 1, 0, 1, 1, 1, 2, 2, 2, 2, 1, 0, 2, 1, 0,\n",
       "       0, 2, 2, 1, 0, 1, 0, 2, 0, 0, 1, 1, 2, 2, 0, 1, 0, 0, 2, 2, 0, 2,\n",
       "       0, 2, 1, 0, 1, 2, 0, 0, 2, 1, 1, 2, 2, 1, 0, 2, 1, 1, 1, 2, 1, 0,\n",
       "       0, 1, 2, 0, 0, 2, 1, 2, 0, 1, 2, 0, 1, 1, 0, 0, 2, 2, 2, 1, 1, 0,\n",
       "       1, 0, 1, 2, 0, 2, 0, 2, 2, 2])"
      ]
     },
     "execution_count": 24,
     "metadata": {},
     "output_type": "execute_result"
    }
   ],
   "source": [
    "y_p"
   ]
  },
  {
   "cell_type": "code",
   "execution_count": 25,
   "id": "574f4110",
   "metadata": {},
   "outputs": [
    {
     "data": {
      "text/plain": [
       "0.9666666666666667"
      ]
     },
     "execution_count": 25,
     "metadata": {},
     "output_type": "execute_result"
    }
   ],
   "source": [
    "knn.score(x_test,y_test)"
   ]
  },
  {
   "cell_type": "code",
   "execution_count": 26,
   "id": "e97e1dfe",
   "metadata": {},
   "outputs": [],
   "source": [
    "from sklearn.metrics import confusion_matrix"
   ]
  },
  {
   "cell_type": "code",
   "execution_count": 27,
   "id": "e4adc3d2",
   "metadata": {},
   "outputs": [],
   "source": [
    "cm = confusion_matrix(y_pred,y_test)"
   ]
  },
  {
   "cell_type": "code",
   "execution_count": 28,
   "id": "c9e52b4d",
   "metadata": {},
   "outputs": [
    {
     "data": {
      "image/png": "[encoded data removed]",
      "text/plain": [
       "<Figure size 432x288 with 2 Axes>"
      ]
     },
     "metadata": {
      "needs_background": "light"
     },
     "output_type": "display_data"
    }
   ],
   "source": [
    "sns.heatmap(cm,annot=True)\n",
    "plt.xlabel('Prediction')\n",
    "plt.ylabel('Truth')\n",
    "plt.show()"
   ]
  },
  {
   "cell_type": "code",
   "execution_count": 29,
   "id": "a9f724fd",
   "metadata": {},
   "outputs": [],
   "source": [
    "r=knn.predict([[ 5,7,2,1]])\n"
   ]
  },
  {
   "cell_type": "code",
   "execution_count": 30,
   "id": "a26eefb4",
   "metadata": {},
   "outputs": [
    {
     "data": {
      "text/plain": [
       "array(['setosa'], dtype='<U10')"
      ]
     },
     "execution_count": 30,
     "metadata": {},
     "output_type": "execute_result"
    }
   ],
   "source": [
    "iris.target_names[r]"
   ]
  },
  {
   "cell_type": "code",
   "execution_count": 31,
   "id": "c133cffc",
   "metadata": {},
   "outputs": [],
   "source": [
    "from sklearn.linear_model import LogisticRegression"
   ]
  },
  {
   "cell_type": "code",
   "execution_count": 32,
   "id": "3ef6b308",
   "metadata": {},
   "outputs": [],
   "source": [
    "lr= LogisticRegression()"
   ]
  },
  {
   "cell_type": "code",
   "execution_count": 33,
   "id": "5f726786",
   "metadata": {},
   "outputs": [
    {
     "name": "stderr",
     "output_type": "stream",
     "text": [
      "C:\\ProgramData\\Anaconda3\\lib\\site-packages\\sklearn\\linear_model\\_logistic.py:763: ConvergenceWarning: lbfgs failed to converge (status=1):\n",
      "STOP: TOTAL NO. of ITERATIONS REACHED LIMIT.\n",
      "\n",
      "Increase the number of iterations (max_iter) or scale the data as shown in:\n",
      "    https://scikit-learn.org/stable/modules/preprocessing.html\n",
      "Please also refer to the documentation for alternative solver options:\n",
      "    https://scikit-learn.org/stable/modules/linear_model.html#logistic-regression\n",
      "  n_iter_i = _check_optimize_result(\n"
     ]
    }
   ],
   "source": [
    "cvs = cross_val_score(lr,x,y,cv=5)"
   ]
  },
  {
   "cell_type": "code",
   "execution_count": 34,
   "id": "b33d7898",
   "metadata": {},
   "outputs": [
    {
     "name": "stderr",
     "output_type": "stream",
     "text": [
      "C:\\ProgramData\\Anaconda3\\lib\\site-packages\\sklearn\\linear_model\\_logistic.py:763: ConvergenceWarning: lbfgs failed to converge (status=1):\n",
      "STOP: TOTAL NO. of ITERATIONS REACHED LIMIT.\n",
      "\n",
      "Increase the number of iterations (max_iter) or scale the data as shown in:\n",
      "    https://scikit-learn.org/stable/modules/preprocessing.html\n",
      "Please also refer to the documentation for alternative solver options:\n",
      "    https://scikit-learn.org/stable/modules/linear_model.html#logistic-regression\n",
      "  n_iter_i = _check_optimize_result(\n"
     ]
    },
    {
     "data": {
      "text/plain": [
       "LogisticRegression()"
      ]
     },
     "execution_count": 34,
     "metadata": {},
     "output_type": "execute_result"
    }
   ],
   "source": [
    "lr.fit(x_train,y_train)"
   ]
  },
  {
   "cell_type": "code",
   "execution_count": 35,
   "id": "9a65ec32",
   "metadata": {},
   "outputs": [],
   "source": [
    "y_pred_lr=lr.predict(x_test)"
   ]
  },
  {
   "cell_type": "code",
   "execution_count": 36,
   "id": "f4416b7a",
   "metadata": {},
   "outputs": [
    {
     "data": {
      "text/plain": [
       "0.9666666666666667"
      ]
     },
     "execution_count": 36,
     "metadata": {},
     "output_type": "execute_result"
    }
   ],
   "source": [
    "lr.score(x_test,y_test)"
   ]
  },
  {
   "cell_type": "code",
   "execution_count": 37,
   "id": "4fffc4e9",
   "metadata": {},
   "outputs": [],
   "source": [
    "cm = confusion_matrix(y_pred_lr,y_test)"
   ]
  },
  {
   "cell_type": "code",
   "execution_count": 38,
   "id": "e05ff25c",
   "metadata": {},
   "outputs": [
    {
     "data": {
      "image/png": "[encoded data removed]",
      "text/plain": [
       "<Figure size 432x288 with 2 Axes>"
      ]
     },
     "metadata": {
      "needs_background": "light"
     },
     "output_type": "display_data"
    }
   ],
   "source": [
    "sns.heatmap(cm,annot=True)\n",
    "plt.xlabel('Prediction')\n",
    "plt.ylabel('Truth')\n",
    "plt.show()"
   ]
  },
  {
   "cell_type": "code",
   "execution_count": null,
   "id": "6ed14cbe",
   "metadata": {},
   "outputs": [],
   "source": []
  },
  {
   "cell_type": "markdown",
   "id": "2b9aa520",
   "metadata": {},
   "source": [
    "# image Classification"
   ]
  },
  {
   "cell_type": "code",
   "execution_count": 119,
   "id": "5324f347",
   "metadata": {},
   "outputs": [],
   "source": [
    "from sklearn.datasets import load_digits"
   ]
  },
  {
   "cell_type": "code",
   "execution_count": 120,
   "id": "b3ce9245",
   "metadata": {},
   "outputs": [],
   "source": [
    "ld = load_digits()"
   ]
  },
  {
   "cell_type": "code",
   "execution_count": 121,
   "id": "85d766a0",
   "metadata": {},
   "outputs": [
    {
     "data": {
      "text/plain": [
       "['DESCR', 'data', 'feature_names', 'frame', 'images', 'target', 'target_names']"
      ]
     },
     "execution_count": 121,
     "metadata": {},
     "output_type": "execute_result"
    }
   ],
   "source": [
    "dir(ld)"
   ]
  },
  {
   "cell_type": "code",
   "execution_count": 129,
   "id": "7b7da721",
   "metadata": {},
   "outputs": [
    {
     "data": {
      "text/plain": [
       "<Figure size 432x288 with 0 Axes>"
      ]
     },
     "metadata": {},
     "output_type": "display_data"
    },
    {
     "data": {
      "image/png": "[encoded data removed]",
      "text/plain": [
       "<Figure size 288x288 with 1 Axes>"
      ]
     },
     "metadata": {
      "needs_background": "light"
     },
     "output_type": "display_data"
    },
    {
     "data": {
      "image/png": "[encoded data removed]",
      "text/plain": [
       "<Figure size 288x288 with 1 Axes>"
      ]
     },
     "metadata": {
      "needs_background": "light"
     },
     "output_type": "display_data"
    },
    {
     "data": {
      "image/png": "[encoded data removed]",
      "text/plain": [
       "<Figure size 288x288 with 1 Axes>"
      ]
     },
     "metadata": {
      "needs_background": "light"
     },
     "output_type": "display_data"
    },
    {
     "data": {
      "image/png": "[encoded data removed]",
      "text/plain": [
       "<Figure size 288x288 with 1 Axes>"
      ]
     },
     "metadata": {
      "needs_background": "light"
     },
     "output_type": "display_data"
    },
    {
     "data": {
      "image/png": "[encoded data removed]",
      "text/plain": [
       "<Figure size 288x288 with 1 Axes>"
      ]
     },
     "metadata": {
      "needs_background": "light"
     },
     "output_type": "display_data"
    }
   ],
   "source": [
    "plt.gray() \n",
    "for i in range(5):\n",
    "    plt.matshow(ld.images[i]) "
   ]
  },
  {
   "cell_type": "code",
   "execution_count": 134,
   "id": "34a7963f",
   "metadata": {},
   "outputs": [],
   "source": [
    "x_train , x_test , y_train, y_test=  train_test_split(ld.data,ld.target,test_size=0.3)"
   ]
  },
  {
   "cell_type": "code",
   "execution_count": 137,
   "id": "de2e7ee8",
   "metadata": {},
   "outputs": [
    {
     "name": "stderr",
     "output_type": "stream",
     "text": [
      "C:\\ProgramData\\Anaconda3\\lib\\site-packages\\sklearn\\linear_model\\_logistic.py:763: ConvergenceWarning: lbfgs failed to converge (status=1):\n",
      "STOP: TOTAL NO. of ITERATIONS REACHED LIMIT.\n",
      "\n",
      "Increase the number of iterations (max_iter) or scale the data as shown in:\n",
      "    https://scikit-learn.org/stable/modules/preprocessing.html\n",
      "Please also refer to the documentation for alternative solver options:\n",
      "    https://scikit-learn.org/stable/modules/linear_model.html#logistic-regression\n",
      "  n_iter_i = _check_optimize_result(\n"
     ]
    },
    {
     "data": {
      "text/plain": [
       "LogisticRegression()"
      ]
     },
     "execution_count": 137,
     "metadata": {},
     "output_type": "execute_result"
    }
   ],
   "source": [
    "lr.fit(x_train,y_train)"
   ]
  },
  {
   "cell_type": "code",
   "execution_count": 138,
   "id": "ae1d2f5b",
   "metadata": {},
   "outputs": [
    {
     "data": {
      "text/plain": [
       "array([4, 1, 0, 8, 3, 3, 6, 7, 8, 6, 0, 5, 6, 0, 7, 2, 4, 0, 2, 9, 0, 0,\n",
       "       3, 0, 3, 5, 2, 2, 1, 9, 4, 5, 3, 3, 4, 6, 7, 1, 7, 3, 9, 3, 8, 9,\n",
       "       2, 3, 7, 7, 6, 2, 6, 8, 7, 9, 9, 2, 8, 2, 1, 9, 8, 1, 1, 9, 2, 0,\n",
       "       1, 8, 8, 7, 0, 9, 1, 0, 2, 8, 4, 0, 0, 5, 6, 6, 8, 3, 4, 5, 9, 4,\n",
       "       6, 4, 0, 0, 6, 1, 1, 9, 9, 0, 2, 2, 7, 6, 0, 7, 1, 0, 1, 2, 5, 3,\n",
       "       8, 9, 3, 3, 0, 1, 9, 6, 4, 8, 6, 1, 5, 7, 6, 3, 7, 4, 9, 6, 5, 6,\n",
       "       0, 2, 5, 2, 1, 1, 1, 8, 3, 7, 6, 5, 4, 7, 2, 7, 8, 7, 6, 6, 8, 1,\n",
       "       6, 7, 5, 2, 1, 7, 6, 1, 4, 8, 4, 7, 1, 3, 9, 7, 7, 7, 5, 9, 9, 7,\n",
       "       1, 8, 7, 6, 6, 8, 9, 4, 1, 5, 6, 0, 5, 6, 5, 6, 6, 7, 3, 8, 6, 6,\n",
       "       6, 6, 6, 7, 8, 9, 9, 1, 6, 1, 9, 9, 1, 1, 7, 4, 3, 0, 4, 0, 4, 9,\n",
       "       3, 1, 3, 9, 4, 8, 1, 0, 8, 8, 5, 6, 9, 4, 8, 5, 6, 9, 2, 1, 4, 3,\n",
       "       4, 5, 6, 5, 9, 7, 1, 2, 9, 7, 1, 5, 3, 7, 4, 1, 8, 1, 3, 3, 8, 8,\n",
       "       7, 7, 9, 5, 7, 2, 9, 1, 3, 9, 0, 0, 8, 0, 3, 3, 6, 7, 5, 5, 2, 7,\n",
       "       2, 7, 8, 7, 6, 7, 1, 1, 1, 5, 3, 4, 5, 3, 6, 9, 1, 0, 3, 5, 6, 7,\n",
       "       0, 3, 4, 0, 1, 3, 3, 2, 0, 9, 5, 3, 4, 6, 9, 5, 8, 1, 4, 5, 4, 9,\n",
       "       7, 1, 9, 8, 1, 4, 3, 5, 8, 8, 1, 0, 3, 2, 1, 8, 5, 1, 0, 5, 9, 5,\n",
       "       4, 6, 9, 6, 6, 9, 4, 8, 8, 7, 6, 1, 2, 0, 6, 8, 8, 4, 4, 2, 6, 6,\n",
       "       2, 3, 6, 4, 4, 7, 8, 5, 5, 1, 1, 7, 5, 5, 3, 0, 3, 9, 8, 1, 8, 4,\n",
       "       7, 0, 3, 5, 5, 6, 5, 7, 2, 4, 1, 1, 8, 5, 9, 5, 8, 3, 0, 5, 3, 4,\n",
       "       5, 1, 2, 3, 0, 7, 2, 6, 9, 0, 5, 9, 8, 7, 7, 5, 1, 4, 1, 7, 3, 0,\n",
       "       8, 0, 6, 7, 1, 4, 2, 9, 9, 2, 3, 6, 2, 3, 4, 4, 4, 9, 5, 8, 0, 4,\n",
       "       8, 7, 5, 2, 4, 1, 1, 0, 5, 6, 5, 9, 8, 9, 6, 9, 3, 3, 4, 0, 1, 7,\n",
       "       5, 2, 8, 3, 9, 8, 9, 0, 4, 6, 6, 0, 9, 2, 6, 1, 1, 4, 4, 4, 4, 0,\n",
       "       5, 5, 6, 7, 0, 4, 4, 7, 8, 1, 0, 3, 6, 9, 7, 0, 5, 4, 8, 3, 3, 0,\n",
       "       4, 9, 8, 7, 9, 2, 6, 8, 5, 2, 3, 7])"
      ]
     },
     "execution_count": 138,
     "metadata": {},
     "output_type": "execute_result"
    }
   ],
   "source": [
    "lr.predict(x_test)"
   ]
  },
  {
   "cell_type": "code",
   "execution_count": 140,
   "id": "3cdfd109",
   "metadata": {},
   "outputs": [
    {
     "data": {
      "text/plain": [
       "<matplotlib.image.AxesImage at 0x2ad8c02faf0>"
      ]
     },
     "execution_count": 140,
     "metadata": {},
     "output_type": "execute_result"
    },
    {
     "data": {
      "image/png": "[encoded data removed]",
      "text/plain": [
       "<Figure size 288x288 with 1 Axes>"
      ]
     },
     "metadata": {
      "needs_background": "light"
     },
     "output_type": "display_data"
    }
   ],
   "source": [
    "plt.matshow(ld.images[67])"
   ]
  },
  {
   "cell_type": "code",
   "execution_count": 141,
   "id": "6818739c",
   "metadata": {},
   "outputs": [
    {
     "data": {
      "text/plain": [
       "6"
      ]
     },
     "execution_count": 141,
     "metadata": {},
     "output_type": "execute_result"
    }
   ],
   "source": [
    "ld.target[67]"
   ]
  },
  {
   "cell_type": "code",
   "execution_count": 144,
   "id": "3251aef7",
   "metadata": {},
   "outputs": [
    {
     "data": {
      "text/plain": [
       "array([6])"
      ]
     },
     "execution_count": 144,
     "metadata": {},
     "output_type": "execute_result"
    }
   ],
   "source": [
    "lr.predict([ld.data[67]])"
   ]
  },
  {
   "cell_type": "code",
   "execution_count": 147,
   "id": "3b40f63c",
   "metadata": {},
   "outputs": [
    {
     "data": {
      "text/plain": [
       "<matplotlib.image.AxesImage at 0x2ad8bef5730>"
      ]
     },
     "execution_count": 147,
     "metadata": {},
     "output_type": "execute_result"
    },
    {
     "data": {
      "image/png": "[encoded data removed]",
      "text/plain": [
       "<Figure size 288x288 with 1 Axes>"
      ]
     },
     "metadata": {
      "needs_background": "light"
     },
     "output_type": "display_data"
    }
   ],
   "source": [
    "plt.matshow(ld.images[467])"
   ]
  },
  {
   "cell_type": "code",
   "execution_count": 148,
   "id": "839fd96e",
   "metadata": {},
   "outputs": [
    {
     "data": {
      "text/plain": [
       "array([7])"
      ]
     },
     "execution_count": 148,
     "metadata": {},
     "output_type": "execute_result"
    }
   ],
   "source": [
    "lr.predict([ld.data[467]])"
   ]
  },
  {
   "cell_type": "code",
   "execution_count": 149,
   "id": "3118de9a",
   "metadata": {},
   "outputs": [
    {
     "data": {
      "text/plain": [
       "<matplotlib.image.AxesImage at 0x2ad8c08f580>"
      ]
     },
     "execution_count": 149,
     "metadata": {},
     "output_type": "execute_result"
    },
    {
     "data": {
      "image/png": "[encoded data removed]",
      "text/plain": [
       "<Figure size 288x288 with 1 Axes>"
      ]
     },
     "metadata": {
      "needs_background": "light"
     },
     "output_type": "display_data"
    }
   ],
   "source": [
    "plt.matshow(ld.images[500])"
   ]
  },
  {
   "cell_type": "code",
   "execution_count": 150,
   "id": "86eab154",
   "metadata": {},
   "outputs": [
    {
     "data": {
      "text/plain": [
       "array([8])"
      ]
     },
     "execution_count": 150,
     "metadata": {},
     "output_type": "execute_result"
    }
   ],
   "source": [
    "lr.predict([ld.data[500]])"
   ]
  },
  {
   "cell_type": "code",
   "execution_count": 151,
   "id": "90471465",
   "metadata": {},
   "outputs": [
    {
     "data": {
      "text/plain": [
       "0.9666666666666667"
      ]
     },
     "execution_count": 151,
     "metadata": {},
     "output_type": "execute_result"
    }
   ],
   "source": [
    "lr.score(x_test,y_test)"
   ]
  },
  {
   "cell_type": "code",
   "execution_count": 152,
   "id": "44e28db6",
   "metadata": {},
   "outputs": [
    {
     "data": {
      "text/plain": [
       "KNeighborsClassifier()"
      ]
     },
     "execution_count": 152,
     "metadata": {},
     "output_type": "execute_result"
    }
   ],
   "source": [
    "knn.fit(x_train,y_train)"
   ]
  },
  {
   "cell_type": "code",
   "execution_count": 153,
   "id": "a5eb9b56",
   "metadata": {},
   "outputs": [
    {
     "data": {
      "text/plain": [
       "0.9796296296296296"
      ]
     },
     "execution_count": 153,
     "metadata": {},
     "output_type": "execute_result"
    }
   ],
   "source": [
    "knn.score(x_test,y_test)"
   ]
  },
  {
   "cell_type": "code",
   "execution_count": 154,
   "id": "d6c2b39c",
   "metadata": {},
   "outputs": [
    {
     "data": {
      "text/plain": [
       "array([8])"
      ]
     },
     "execution_count": 154,
     "metadata": {},
     "output_type": "execute_result"
    }
   ],
   "source": [
    "knn.predict([ld.data[500]])"
   ]
  },
  {
   "cell_type": "code",
   "execution_count": 161,
   "id": "6244ace1",
   "metadata": {},
   "outputs": [
    {
     "data": {
      "text/plain": [
       "<matplotlib.image.AxesImage at 0x2ad8e260730>"
      ]
     },
     "execution_count": 161,
     "metadata": {},
     "output_type": "execute_result"
    },
    {
     "data": {
      "image/png": "[encoded data removed]",
      "text/plain": [
       "<Figure size 288x288 with 1 Axes>"
      ]
     },
     "metadata": {
      "needs_background": "light"
     },
     "output_type": "display_data"
    }
   ],
   "source": [
    "plt.matshow(ld.images[885])"
   ]
  },
  {
   "cell_type": "code",
   "execution_count": 162,
   "id": "5f3e4f77",
   "metadata": {},
   "outputs": [
    {
     "data": {
      "text/plain": [
       "array([5])"
      ]
     },
     "execution_count": 162,
     "metadata": {},
     "output_type": "execute_result"
    }
   ],
   "source": [
    "knn.predict([ld.data[885]])"
   ]
  },
  {
   "cell_type": "code",
   "execution_count": 163,
   "id": "f9bdabaf",
   "metadata": {},
   "outputs": [],
   "source": [
    "from math import sqrt\n",
    "class KNN():\n",
    "  def __init__(self,k):\n",
    "    self.k=k\n",
    "    print(self.k)\n",
    "  def fit(self,X_train,y_train):\n",
    "    self.x_train=X_train\n",
    "    self.y_train=y_train\n",
    "  def calculate_euclidean(self,sample1,sample2):\n",
    "    distance=0.0\n",
    "    for i in range(len(sample1)):\n",
    "      distance+=(sample1[i]-sample2[i])**2 #Euclidean Distance = sqrt(sum i to N (x1_i – x2_i)^2)\n",
    "    return sqrt(distance)\n",
    "  def nearest_neighbors(self,test_sample):\n",
    "    distances=[]#calculate distances from a test sample to every sample in a training set\n",
    "    for i in range(len(self.x_train)):\n",
    "      distances.append((self.y_train[i],self.calculate_euclidean(self.x_train[i],test_sample)))\n",
    "    distances.sort(key=lambda x:x[1])#sort in ascending order, based on a distance value\n",
    "    neighbors=[]\n",
    "    for i in range(self.k): #get first k samples\n",
    "      neighbors.append(distances[i][0])\n",
    "    return neighbors\n",
    "  def predict(self,test_set):\n",
    "    predictions=[]\n",
    "    for test_sample in test_set:\n",
    "      neighbors=self.nearest_neighbors(test_sample)\n",
    "      labels=[sample for sample in neighbors]\n",
    "      prediction=max(labels,key=labels.count)\n",
    "      predictions.append(prediction)\n",
    "    return predictions"
   ]
  },
  {
   "cell_type": "code",
   "execution_count": 167,
   "id": "25326020",
   "metadata": {},
   "outputs": [
    {
     "name": "stdout",
     "output_type": "stream",
     "text": [
      "5\n"
     ]
    }
   ],
   "source": [
    "model=KNN(5) \n",
    "model.fit(x_train,y_train)"
   ]
  },
  {
   "cell_type": "code",
   "execution_count": 169,
   "id": "aced9ca5",
   "metadata": {},
   "outputs": [
    {
     "data": {
      "text/plain": [
       "[4,\n",
       " 1,\n",
       " 0,\n",
       " 8,\n",
       " 3,\n",
       " 3,\n",
       " 6,\n",
       " 7,\n",
       " 8,\n",
       " 6,\n",
       " 0,\n",
       " 5,\n",
       " 6,\n",
       " 0,\n",
       " 7,\n",
       " 2,\n",
       " 4,\n",
       " 0,\n",
       " 2,\n",
       " 9,\n",
       " 0,\n",
       " 0,\n",
       " 3,\n",
       " 0,\n",
       " 3,\n",
       " 8,\n",
       " 2,\n",
       " 2,\n",
       " 1,\n",
       " 9,\n",
       " 4,\n",
       " 5,\n",
       " 3,\n",
       " 3,\n",
       " 4,\n",
       " 6,\n",
       " 7,\n",
       " 1,\n",
       " 7,\n",
       " 3,\n",
       " 5,\n",
       " 7,\n",
       " 8,\n",
       " 9,\n",
       " 2,\n",
       " 3,\n",
       " 7,\n",
       " 7,\n",
       " 6,\n",
       " 2,\n",
       " 6,\n",
       " 8,\n",
       " 7,\n",
       " 9,\n",
       " 9,\n",
       " 2,\n",
       " 1,\n",
       " 2,\n",
       " 1,\n",
       " 9,\n",
       " 8,\n",
       " 4,\n",
       " 1,\n",
       " 9,\n",
       " 2,\n",
       " 0,\n",
       " 1,\n",
       " 8,\n",
       " 8,\n",
       " 7,\n",
       " 0,\n",
       " 9,\n",
       " 1,\n",
       " 0,\n",
       " 2,\n",
       " 8,\n",
       " 4,\n",
       " 0,\n",
       " 0,\n",
       " 5,\n",
       " 6,\n",
       " 6,\n",
       " 8,\n",
       " 3,\n",
       " 4,\n",
       " 5,\n",
       " 9,\n",
       " 4,\n",
       " 6,\n",
       " 4,\n",
       " 0,\n",
       " 0,\n",
       " 6,\n",
       " 1,\n",
       " 1,\n",
       " 9,\n",
       " 9,\n",
       " 0,\n",
       " 2,\n",
       " 2,\n",
       " 7,\n",
       " 6,\n",
       " 0,\n",
       " 7,\n",
       " 1,\n",
       " 0,\n",
       " 1,\n",
       " 2,\n",
       " 5,\n",
       " 3,\n",
       " 8,\n",
       " 4,\n",
       " 3,\n",
       " 3,\n",
       " 0,\n",
       " 1,\n",
       " 9,\n",
       " 6,\n",
       " 4,\n",
       " 8,\n",
       " 6,\n",
       " 1,\n",
       " 5,\n",
       " 7,\n",
       " 6,\n",
       " 3,\n",
       " 7,\n",
       " 4,\n",
       " 9,\n",
       " 6,\n",
       " 5,\n",
       " 6,\n",
       " 0,\n",
       " 2,\n",
       " 5,\n",
       " 2,\n",
       " 1,\n",
       " 1,\n",
       " 1,\n",
       " 3,\n",
       " 3,\n",
       " 7,\n",
       " 6,\n",
       " 5,\n",
       " 6,\n",
       " 7,\n",
       " 2,\n",
       " 7,\n",
       " 8,\n",
       " 7,\n",
       " 6,\n",
       " 6,\n",
       " 8,\n",
       " 1,\n",
       " 6,\n",
       " 7,\n",
       " 5,\n",
       " 2,\n",
       " 1,\n",
       " 7,\n",
       " 6,\n",
       " 1,\n",
       " 4,\n",
       " 8,\n",
       " 4,\n",
       " 7,\n",
       " 1,\n",
       " 3,\n",
       " 9,\n",
       " 7,\n",
       " 7,\n",
       " 7,\n",
       " 5,\n",
       " 9,\n",
       " 9,\n",
       " 7,\n",
       " 1,\n",
       " 8,\n",
       " 7,\n",
       " 6,\n",
       " 6,\n",
       " 8,\n",
       " 9,\n",
       " 4,\n",
       " 1,\n",
       " 5,\n",
       " 6,\n",
       " 0,\n",
       " 5,\n",
       " 6,\n",
       " 5,\n",
       " 6,\n",
       " 6,\n",
       " 7,\n",
       " 3,\n",
       " 8,\n",
       " 6,\n",
       " 6,\n",
       " 6,\n",
       " 6,\n",
       " 6,\n",
       " 7,\n",
       " 8,\n",
       " 9,\n",
       " 9,\n",
       " 1,\n",
       " 6,\n",
       " 6,\n",
       " 9,\n",
       " 9,\n",
       " 1,\n",
       " 4,\n",
       " 7,\n",
       " 4,\n",
       " 3,\n",
       " 0,\n",
       " 4,\n",
       " 0,\n",
       " 4,\n",
       " 9,\n",
       " 3,\n",
       " 1,\n",
       " 3,\n",
       " 9,\n",
       " 6,\n",
       " 8,\n",
       " 1,\n",
       " 0,\n",
       " 8,\n",
       " 8,\n",
       " 5,\n",
       " 6,\n",
       " 9,\n",
       " 4,\n",
       " 8,\n",
       " 5,\n",
       " 6,\n",
       " 9,\n",
       " 2,\n",
       " 1,\n",
       " 4,\n",
       " 3,\n",
       " 4,\n",
       " 5,\n",
       " 6,\n",
       " 5,\n",
       " 9,\n",
       " 7,\n",
       " 1,\n",
       " 2,\n",
       " 9,\n",
       " 7,\n",
       " 1,\n",
       " 8,\n",
       " 3,\n",
       " 7,\n",
       " 4,\n",
       " 5,\n",
       " 8,\n",
       " 1,\n",
       " 3,\n",
       " 3,\n",
       " 8,\n",
       " 8,\n",
       " 7,\n",
       " 7,\n",
       " 8,\n",
       " 5,\n",
       " 7,\n",
       " 2,\n",
       " 9,\n",
       " 1,\n",
       " 3,\n",
       " 9,\n",
       " 0,\n",
       " 0,\n",
       " 1,\n",
       " 0,\n",
       " 3,\n",
       " 3,\n",
       " 6,\n",
       " 7,\n",
       " 5,\n",
       " 5,\n",
       " 2,\n",
       " 7,\n",
       " 2,\n",
       " 7,\n",
       " 8,\n",
       " 7,\n",
       " 6,\n",
       " 7,\n",
       " 1,\n",
       " 1,\n",
       " 4,\n",
       " 5,\n",
       " 3,\n",
       " 4,\n",
       " 5,\n",
       " 3,\n",
       " 6,\n",
       " 9,\n",
       " 1,\n",
       " 0,\n",
       " 3,\n",
       " 5,\n",
       " 6,\n",
       " 7,\n",
       " 0,\n",
       " 3,\n",
       " 4,\n",
       " 0,\n",
       " 1,\n",
       " 3,\n",
       " 3,\n",
       " 2,\n",
       " 0,\n",
       " 9,\n",
       " 5,\n",
       " 3,\n",
       " 4,\n",
       " 6,\n",
       " 9,\n",
       " 5,\n",
       " 8,\n",
       " 1,\n",
       " 4,\n",
       " 5,\n",
       " 4,\n",
       " 9,\n",
       " 7,\n",
       " 1,\n",
       " 9,\n",
       " 8,\n",
       " 1,\n",
       " 4,\n",
       " 3,\n",
       " 5,\n",
       " 8,\n",
       " 8,\n",
       " 4,\n",
       " 0,\n",
       " 3,\n",
       " 2,\n",
       " 1,\n",
       " 8,\n",
       " 5,\n",
       " 1,\n",
       " 0,\n",
       " 5,\n",
       " 9,\n",
       " 5,\n",
       " 4,\n",
       " 6,\n",
       " 9,\n",
       " 6,\n",
       " 6,\n",
       " 9,\n",
       " 4,\n",
       " 8,\n",
       " 8,\n",
       " 7,\n",
       " 6,\n",
       " 1,\n",
       " 2,\n",
       " 0,\n",
       " 6,\n",
       " 8,\n",
       " 7,\n",
       " 4,\n",
       " 4,\n",
       " 2,\n",
       " 6,\n",
       " 6,\n",
       " 7,\n",
       " 3,\n",
       " 6,\n",
       " 4,\n",
       " 4,\n",
       " 7,\n",
       " 8,\n",
       " 7,\n",
       " 5,\n",
       " 1,\n",
       " 1,\n",
       " 7,\n",
       " 5,\n",
       " 5,\n",
       " 3,\n",
       " 0,\n",
       " 3,\n",
       " 9,\n",
       " 8,\n",
       " 1,\n",
       " 8,\n",
       " 4,\n",
       " 7,\n",
       " 0,\n",
       " 3,\n",
       " 5,\n",
       " 5,\n",
       " 6,\n",
       " 5,\n",
       " 7,\n",
       " 2,\n",
       " 4,\n",
       " 1,\n",
       " 1,\n",
       " 8,\n",
       " 5,\n",
       " 9,\n",
       " 5,\n",
       " 8,\n",
       " 3,\n",
       " 0,\n",
       " 5,\n",
       " 3,\n",
       " 4,\n",
       " 5,\n",
       " 1,\n",
       " 2,\n",
       " 3,\n",
       " 0,\n",
       " 7,\n",
       " 2,\n",
       " 6,\n",
       " 9,\n",
       " 0,\n",
       " 5,\n",
       " 9,\n",
       " 8,\n",
       " 7,\n",
       " 7,\n",
       " 5,\n",
       " 1,\n",
       " 4,\n",
       " 1,\n",
       " 7,\n",
       " 3,\n",
       " 0,\n",
       " 8,\n",
       " 0,\n",
       " 6,\n",
       " 7,\n",
       " 1,\n",
       " 4,\n",
       " 2,\n",
       " 9,\n",
       " 9,\n",
       " 2,\n",
       " 3,\n",
       " 6,\n",
       " 2,\n",
       " 3,\n",
       " 4,\n",
       " 4,\n",
       " 1,\n",
       " 9,\n",
       " 5,\n",
       " 8,\n",
       " 0,\n",
       " 4,\n",
       " 8,\n",
       " 7,\n",
       " 5,\n",
       " 2,\n",
       " 4,\n",
       " 8,\n",
       " 1,\n",
       " 0,\n",
       " 5,\n",
       " 6,\n",
       " 5,\n",
       " 9,\n",
       " 8,\n",
       " 9,\n",
       " 6,\n",
       " 9,\n",
       " 3,\n",
       " 3,\n",
       " 4,\n",
       " 0,\n",
       " 1,\n",
       " 7,\n",
       " 5,\n",
       " 2,\n",
       " 8,\n",
       " 3,\n",
       " 9,\n",
       " 8,\n",
       " 9,\n",
       " 0,\n",
       " 4,\n",
       " 6,\n",
       " 6,\n",
       " 0,\n",
       " 9,\n",
       " 2,\n",
       " 6,\n",
       " 4,\n",
       " 1,\n",
       " 4,\n",
       " 4,\n",
       " 4,\n",
       " 4,\n",
       " 0,\n",
       " 5,\n",
       " 5,\n",
       " 6,\n",
       " 7,\n",
       " 0,\n",
       " 4,\n",
       " 4,\n",
       " 7,\n",
       " 8,\n",
       " 1,\n",
       " 0,\n",
       " 7,\n",
       " 6,\n",
       " 9,\n",
       " 7,\n",
       " 0,\n",
       " 5,\n",
       " 4,\n",
       " 8,\n",
       " 3,\n",
       " 3,\n",
       " 0,\n",
       " 4,\n",
       " 9,\n",
       " 8,\n",
       " 7,\n",
       " 9,\n",
       " 2,\n",
       " 6,\n",
       " 8,\n",
       " 5,\n",
       " 2,\n",
       " 3,\n",
       " 7]"
      ]
     },
     "execution_count": 169,
     "metadata": {},
     "output_type": "execute_result"
    }
   ],
   "source": [
    "model.predict(x_test)"
   ]
  },
  {
   "cell_type": "code",
   "execution_count": null,
   "id": "5d3b18d1",
   "metadata": {},
   "outputs": [],
   "source": []
  }
 ],
 "metadata": {
  "kernelspec": {
   "display_name": "Python 3 (ipykernel)",
   "language": "python",
   "name": "python3"
  },
  "language_info": {
   "codemirror_mode": {
    "name": "ipython",
    "version": 3
   },
   "file_extension": ".py",
   "mimetype": "text/x-python",
   "name": "python",
   "nbconvert_exporter": "python",
   "pygments_lexer": "ipython3",
   "version": "3.9.7"
  }
 },
 "nbformat": 4,
 "nbformat_minor": 5
}
